{
  "nbformat": 4,
  "nbformat_minor": 0,
  "metadata": {
    "colab": {
      "name": "CC61_PDI_Trabajo_Final.ipynb",
      "provenance": [],
      "collapsed_sections": [],
      "include_colab_link": true
    },
    "kernelspec": {
      "display_name": "Python 3",
      "language": "python",
      "name": "python3"
    },
    "language_info": {
      "codemirror_mode": {
        "name": "ipython",
        "version": 3
      },
      "file_extension": ".py",
      "mimetype": "text/x-python",
      "name": "python",
      "nbconvert_exporter": "python",
      "pygments_lexer": "ipython3",
      "version": "3.7.3"
    }
  },
  "cells": [
    {
      "cell_type": "markdown",
      "metadata": {
        "id": "view-in-github",
        "colab_type": "text"
      },
      "source": [
        "<a href=\"https://colab.research.google.com/github/Carhuacusma/CC61_PDI_Trabajo_Final/blob/main/CC61_PDI_Trabajo_Final.ipynb\" target=\"_parent\"><img src=\"https://colab.research.google.com/assets/colab-badge.svg\" alt=\"Open In Colab\"/></a>"
      ]
    },
    {
      "cell_type": "markdown",
      "metadata": {
        "id": "GjTCri4qfHfZ"
      },
      "source": [
        "# CC61: Procesamiento de Imágenes\n",
        "# **Trabajo Final**\n",
        "\n",
        "Alumnos:\n",
        "* Galván Díaz, Joaquín Adrían : u201810A.\n",
        "* Moreno Carhuacusma, Dante Brandon : u201818067"
      ]
    },
    {
      "cell_type": "markdown",
      "metadata": {
        "id": "4UHVClP67CAN"
      },
      "source": [
        "## Objetivos"
      ]
    },
    {
      "cell_type": "markdown",
      "metadata": {
        "id": "bOfvCD3s00IX"
      },
      "source": [
        "* Distinguir una partitura musical en una imagen\n",
        "* Extraer el sonido que correspone a los símbolos en la partitura\n",
        "* Determinar el mejor acercamiento con técnicas de procesamiento de imágenes al problema"
      ]
    },
    {
      "cell_type": "markdown",
      "metadata": {
        "id": "ViZ_kW7iNI0t"
      },
      "source": [
        "## Planteamiento (Borrador porque no estoy seguro del formato xd)"
      ]
    },
    {
      "cell_type": "markdown",
      "metadata": {
        "id": "Ampr3-A_NPTV"
      },
      "source": [
        "### Preprocesamiento"
      ]
    },
    {
      "cell_type": "markdown",
      "metadata": {
        "id": "TIyvC9uoNbXK"
      },
      "source": [
        "Todas las imágenes cargadas pasan por un método para \"rectificarlas\", asumiendo que podrían ser fotos de partituras impresas, desde diversos ángulos."
      ]
    },
    {
      "cell_type": "markdown",
      "metadata": {
        "id": "f09ETyISPHX3"
      },
      "source": [
        "1. Si no está en escala de grises, convertir a escala de grises.\n",
        "2. Blur: Aplica filtro bilateral gaussiano sobre la imagen en escala de grises para facilitar el proceso de *edge detection*.\n",
        "3. Edge Detection: Aplica el filtro Canny a la imagen resultante.\n",
        "4. Código de la Cadena: Aplica la función findCountours de OpenCV para la detección de contornos con el código de la cadena. Retorna un arreglo de contornos con los puntos que componen a cada uno.\n",
        "5. Ordena el arreglo de contornos obtenido según el área."
      ]
    },
    {
      "cell_type": "markdown",
      "metadata": {
        "id": "rTgoMrVBYT7q"
      },
      "source": [
        "![Imagen de una hoja impresa](https://raw.githubusercontent.com/Carhuacusma/CC61_PDI_Trabajo_Final/main/Data/Fotos/mary_hoja.jpg)"
      ]
    },
    {
      "cell_type": "markdown",
      "metadata": {
        "id": "U3IoSbK3T_EX"
      },
      "source": [
        "Para extraer la posible hoja de la imagen y rectificarla, considera los siguientes parámetros\n",
        "- $contornos$: Arreglo del 15% de contornos con mayor área, los que podrían ser una hoja.\n",
        "- $areaTotal$: Área de la imagen filtrada.\n",
        "- $umbralHoja$: Un umbral para determinar cuál debe ser la proporción hoja/imagen mínima y así evitar amplificar cuadrados pequeños en imágenes de partituras ideales.\n",
        "\n",
        "Entonces\n",
        "* Por cada *contorno* $C$ en el arreglo $contornos$:\n",
        "> * $approx \\gets$ Polígono Aproximado del contorno $C$, con método de OpenCV\n",
        "> * Si el polígono aproximado $approx$ es de 4 esquinas:\n",
        ">> - $auxArea \\leftarrow$ Área de $approx$ \n",
        ">> - Si $\\frac{auxArea}{areaTotal} > umbralHoja:$\n",
        ">>> - $candidatoHoja \\gets approx$\n",
        ">>> - *break for*"
      ]
    },
    {
      "cell_type": "markdown",
      "metadata": {
        "id": "451FNdkmsnw2"
      },
      "source": [
        "En el caso en que $candidatoHoja$ no tenga valor, se asume que la imagen ingresada es una imagen ideal, y no se realiza la transformación geométrica para corregir la perspectiva y considerar únicamente la región dentro de la hoja impresa."
      ]
    },
    {
      "cell_type": "markdown",
      "metadata": {
        "id": "s3YV8jZKsdzT"
      },
      "source": [
        "### Extracción de lineas: Transformada de Hough"
      ]
    },
    {
      "cell_type": "markdown",
      "metadata": {
        "id": "KcAzQlYEtcDP"
      },
      "source": [
        "TODO"
      ]
    },
    {
      "cell_type": "markdown",
      "metadata": {
        "id": "YQRksHrD7Usi"
      },
      "source": [
        "## Desarrollo"
      ]
    },
    {
      "cell_type": "markdown",
      "metadata": {
        "id": "_L7dg4P87Zhn"
      },
      "source": [
        "### Importación de librerías"
      ]
    },
    {
      "cell_type": "code",
      "metadata": {
        "id": "S-grTx7Md7Wy"
      },
      "source": [
        "import cv2\n",
        "import math\n",
        "import numpy as np\n",
        "import pandas as pd\n",
        "import matplotlib.pyplot as plt\n",
        "from scipy import stats\n",
        "from skimage import io\n",
        "from google.colab.patches import cv2_imshow"
      ],
      "execution_count": null,
      "outputs": []
    },
    {
      "cell_type": "code",
      "metadata": {
        "id": "vlTcjxdeGdzA"
      },
      "source": [
        "#No da error en colab pero no funciona el import {simbolo de exclamcion} pip install scikits.audiolab"
      ],
      "execution_count": null,
      "outputs": []
    },
    {
      "cell_type": "code",
      "metadata": {
        "id": "8V9gGjs6GvrE"
      },
      "source": [
        "#from scikits.audiolab import play"
      ],
      "execution_count": null,
      "outputs": []
    },
    {
      "cell_type": "markdown",
      "metadata": {
        "id": "Pq0TM0HLu-pL"
      },
      "source": [
        "### Cargar Imágenes"
      ]
    },
    {
      "cell_type": "code",
      "metadata": {
        "id": "kke0Sd68ScSX"
      },
      "source": [
        "repo = \"https://raw.githubusercontent.com/Carhuacusma/CC61_PDI_Trabajo_Final/main/Data/\""
      ],
      "execution_count": null,
      "outputs": []
    },
    {
      "cell_type": "code",
      "metadata": {
        "id": "mpas_4liLTKE"
      },
      "source": [
        "repo = \"Data/\""
      ],
      "execution_count": null,
      "outputs": []
    },
    {
      "cell_type": "code",
      "metadata": {
        "id": "PswyuuzWSdFl",
        "outputId": "954bb7af-f9bc-40c2-f5bf-d7a6ac32d9a9",
        "colab": {
          "base_uri": "https://localhost:8080/"
        }
      },
      "source": [
        "ruta = \"Fotos/mary_hoja.jpg\"\n",
        "imHoja = io.imread(\"%s%s\"%(repo,ruta))\n",
        "print(type(imHoja))"
      ],
      "execution_count": null,
      "outputs": [
        {
          "output_type": "stream",
          "text": [
            "<class 'numpy.ndarray'>\n"
          ],
          "name": "stdout"
        }
      ]
    },
    {
      "cell_type": "code",
      "metadata": {
        "id": "b3AQK026hzqY",
        "outputId": "ebd7b193-32ad-42af-fca9-7d0754aca7d9",
        "colab": {
          "base_uri": "https://localhost:8080/",
          "height": 286
        }
      },
      "source": [
        "plt.imshow(imHoja)"
      ],
      "execution_count": null,
      "outputs": [
        {
          "output_type": "execute_result",
          "data": {
            "text/plain": [
              "<matplotlib.image.AxesImage at 0x7f8d01ac4e10>"
            ]
          },
          "metadata": {
            "tags": []
          },
          "execution_count": 4
        },
        {
          "output_type": "display_data",
          "data": {
            "image/png": "[encoded data removed]",
            "text/plain": [
              "<Figure size 432x288 with 1 Axes>"
            ]
          },
          "metadata": {
            "tags": [],
            "needs_background": "light"
          }
        }
      ]
    },
    {
      "cell_type": "code",
      "metadata": {
        "id": "HfmVUqZn7Y8X",
        "outputId": "8d0dbeff-584a-445a-d68f-ab69a8f444cf",
        "colab": {
          "base_uri": "https://localhost:8080/"
        }
      },
      "source": [
        "ruta = \"Ideal/mary_had_a_little_lamb.jpg\"\n",
        "imIdeal = io.imread(\"%s%s\"%(repo,ruta))\n",
        "print(type(imIdeal))"
      ],
      "execution_count": null,
      "outputs": [
        {
          "output_type": "stream",
          "text": [
            "<class 'imageio.core.util.Array'>\n"
          ],
          "name": "stdout"
        }
      ]
    },
    {
      "cell_type": "code",
      "metadata": {
        "id": "8Er5tD2AtItT",
        "outputId": "452c68dd-7d88-41f4-d65a-db2790cd32f4",
        "colab": {
          "base_uri": "https://localhost:8080/"
        }
      },
      "source": [
        "plt.imshow(imIdeal)"
      ],
      "execution_count": null,
      "outputs": [
        {
          "output_type": "execute_result",
          "data": {
            "text/plain": [
              "<matplotlib.image.AxesImage at 0x15230465828>"
            ]
          },
          "metadata": {
            "tags": []
          },
          "execution_count": 9
        },
        {
          "output_type": "display_data",
          "data": {
            "image/png": "[encoded data removed]",
            "text/plain": [
              "<Figure size 432x288 with 1 Axes>"
            ]
          },
          "metadata": {
            "tags": [],
            "needs_background": "light"
          }
        }
      ]
    },
    {
      "cell_type": "markdown",
      "metadata": {
        "id": "nNfcxAvvzyKi"
      },
      "source": [
        "### Preprocesamiento"
      ]
    },
    {
      "cell_type": "code",
      "metadata": {
        "id": "-JiuwHCfnmfK"
      },
      "source": [
        "def ordenarEsquinas(pts):\n",
        "    rect = np.zeros((4, 2), dtype = \"float32\") # Rectángulo de 0s para ser como un canvas\n",
        "    oAux = pts.sum(axis = 1) # Arreglo de 4 resultados...................................... : oAux[i] = pts[i][0] + pts[i][1]\n",
        "    rect[0] = pts[np.argmin(oAux)] # La esquina superior izquierda tiene la suma más pequeña\n",
        "    rect[2] = pts[np.argmax(oAux)] # La esquina inferior derecha tiene la mayor suma\n",
        "    oAux = np.diff(pts, axis = 1)  # ....................................................... : oAux[i] = |(pts[i][0] - pts[i][1])|\n",
        "    rect[1] = pts[np.argmin(oAux)] # La esquina superior derecha minima diferencia (X mayor)\n",
        "    rect[3] = pts[np.argmax(oAux)] # La esquina inferior izquierda maxima diferencia\n",
        "    return rect"
      ],
      "execution_count": null,
      "outputs": []
    },
    {
      "cell_type": "code",
      "metadata": {
        "id": "Kbb7Cz_ExqgI"
      },
      "source": [
        "def warping(imagen, topL, topR, botR, botL):\n",
        "    widthA = np.sqrt(((botR[0] - botL[0]) ** 2) + ((botR[1] - botL[1]) ** 2)) #.... | Distancia euclidiana\n",
        "    widthB = np.sqrt(((topR[0] - topL[0]) ** 2) + ((topR[1] - topL[1]) ** 2)) #.... | \"\"\n",
        "    heightA = np.sqrt(((topR[0] - botR[0]) ** 2) + ((topR[1] - botR[1]) ** 2)) #... | \"\"\n",
        "    heightB = np.sqrt(((topL[0] - botL[0]) ** 2) + ((topL[1] - botL[1]) ** 2)) #... | \"\"\n",
        "    maxWidth = max(int(widthA), int(widthB)) #......... | El anchos máximo se usa para la nueva imagen\n",
        "    maxHeight = max(int(heightA), int(heightB)) #...... | El alto máximo se usa para la nueva imagen\n",
        "    #.................................................. | dst: Puntos de destino, imagen \"recta\"\n",
        "    dst = np.array([[0, 0],\n",
        "                    [maxWidth - 1, 0],\n",
        "                    [maxWidth - 1, maxHeight - 1],\n",
        "                    [0, maxHeight - 1]], dtype = \"float32\")\n",
        "    M = cv2.getPerspectiveTransform(np.array([topL,topR,botR,botL]), dst) #......... Matriz de transformación\n",
        "    return cv2.warpPerspective(imagen, M, (maxWidth, maxHeight)) #.................. Aplicar la matriz para obtener la imagen nueva"
      ],
      "execution_count": null,
      "outputs": []
    },
    {
      "cell_type": "code",
      "metadata": {
        "id": "PL5BJT1mkyKl"
      },
      "source": [
        "def enCasoHoja(imagen,contornos,umbralHoja = 0.5):\n",
        "    contornos = contornos[:int(0.15*len(contornos))] #........ 1. Extrae el 15 % de contornos con mayor área\n",
        "    candHoja = []\n",
        "    auxArea = 0\n",
        "    for c in contornos: #..................................... 2. Por cada C que pertenece a Contornos:\n",
        "        perimetro = cv2.arcLength(c, True)\n",
        "        approx = cv2.approxPolyDP(c, 0.015 * perimetro, True) #......2.1. Disminuir el número de lados de C (Polígono Aproximado)\n",
        "        if len(approx) == 4: #.......................................2.2. Si el polígono aproximado es de 4 lados:\n",
        "            auxArea = cv2.contourArea(approx) #................................ Considera el Área del \"candidato a hoja\"\n",
        "            if auxArea/((imagen.shape[0])*(imagen.shape[1])) > umbralHoja: #... Si la proporción de las áreas candidato/imagen supera el umbral:\n",
        "                candHoja = approx #................................................... \"Candidato\" es la hoja impresa\n",
        "                break\n",
        "    if len(candHoja) == 0:\n",
        "        print(\"Imagen ideal\")\n",
        "        return imagen\n",
        "    else:\n",
        "        puntos = candHoja.reshape(4, 2) #... Para manejar mejor los puntos\n",
        "        rect = ordenarEsquinas(puntos) #.... Ordena las esquinas a formato:\n",
        "        (tl, tr, br, bl) = rect #........... Sentido Horario, Esquinas: Superior Izquierda, Superior Derecha,...\n",
        "        print(\"Foto con esquinas\")\n",
        "        return warping(imagen,topL=tl,topR=tr,botR=br,botL=bl)"
      ],
      "execution_count": null,
      "outputs": []
    },
    {
      "cell_type": "code",
      "metadata": {
        "id": "dZ0jZe0KkcGV"
      },
      "source": [
        "def hacerDFdeLineas(lineas):\n",
        "    if lineas is None:\n",
        "        print(\"No hay líneas\")\n",
        "        return None\n",
        "    def valores(p1,p2):\n",
        "        dx = p2[0] - p1[0]\n",
        "        dy = p2[1] - p1[1]\n",
        "        theta = np.pi / 2\n",
        "        if dx != 0:\n",
        "            theta = np.arctan(dy/dx)\n",
        "        theta = round(theta*100) / 100\n",
        "        tam = pow((dx ** 2) + (dy ** 2), 0.5)\n",
        "        tam = round(tam*10)/10\n",
        "        sp1 = p1[0] + p1[1]\n",
        "        sp2 = p2[0] + p2[1]\n",
        "        if sp2 < sp1:\n",
        "            return [p2,p1,tam,theta]\n",
        "        return [p1,p2,tam,theta]\n",
        "    dfLineas = []\n",
        "    for linea in lineas:\n",
        "        l = linea[0] #Acceder a los valores porque linea = [[x1 y1 x2 y2]]\n",
        "        dfLineas.append(valores([l[0],l[1]], [l[2],l[3]]))\n",
        "    return pd.DataFrame(data=dfLineas,columns=[\"Punto 1\", \"Punto 2\", \"Longitud\", \"Angulo\"])"
      ],
      "execution_count": null,
      "outputs": []
    },
    {
      "cell_type": "code",
      "metadata": {
        "id": "zO6r-QgvLTLN"
      },
      "source": [
        "def discriminarPentagramas(dfLineas):\n",
        "    #TODO: Asumimos que será en formato de HoughLinesP por lo de x,y,dist y ang creo\n",
        "    return 0"
      ],
      "execution_count": null,
      "outputs": []
    },
    {
      "cell_type": "code",
      "metadata": {
        "id": "LNcoXozlKD_j"
      },
      "source": [
        "def rectificar(imagen, umbralHoja = 0.5):\n",
        "    if len(imagen.shape) != 2:\n",
        "        imagen = cv2.cvtColor(imagen,cv2.COLOR_RGB2GRAY) #....................| 1. Asegura Escala de Grises, \n",
        "    imagen = cv2.bilateralFilter(imagen,d=3,sigmaColor=75,sigmaSpace=30) # .| 2. Blur, \n",
        "    im_canny = cv2.Canny(imagen,50,205) #...................................| 3. Edge Detector: Canny >> Imagen con bordes\n",
        "    #............. Extraer la hoja impresa de la foto:\n",
        "    contornos, _ = cv2.findContours(im_canny,cv2.RETR_TREE,cv2.CHAIN_APPROX_SIMPLE) #...| 1. Extrae \"Contornos\" con Cadena (findContours) \n",
        "    contornos = sorted(contornos, key = cv2.contourArea, reverse = True) #..............| 2. Ordenar \"Contornos\" por Área\n",
        "    imagen = enCasoHoja(im_canny,contornos,umbralHoja) #................................| 3. Imagen de la hoja impresa \n",
        "    #............. Rectificar la orientación\n",
        "    # TODO: Hough de Líneas,\n",
        "    # -> Flip x° para que el pentagrama encaje  \n",
        "    return imagen"
      ],
      "execution_count": null,
      "outputs": []
    },
    {
      "cell_type": "code",
      "metadata": {
        "id": "oZYFFhlhv6sD",
        "outputId": "9719fb2b-526e-4645-9568-921d42799d66",
        "colab": {
          "base_uri": "https://localhost:8080/"
        }
      },
      "source": [
        "r_imHoja = rectificar(imHoja,0.5)"
      ],
      "execution_count": null,
      "outputs": [
        {
          "output_type": "stream",
          "text": [
            "Foto con esquinas\n"
          ],
          "name": "stdout"
        }
      ]
    },
    {
      "cell_type": "code",
      "metadata": {
        "id": "A_CI7yyUzAGG"
      },
      "source": [
        "linesP = cv2.HoughLinesP(r_imHoja, 1, np.pi / 180, 50, None, 50, 10)\n",
        "dfLineasP = hacerDFdeLineas(linesP)"
      ],
      "execution_count": null,
      "outputs": []
    },
    {
      "cell_type": "code",
      "metadata": {
        "id": "liQzWj78nZQq"
      },
      "source": [
        "auxImHoja = r_imHoja.copy()\n",
        "auxImHoja = cv2.cvtColor(auxImHoja,cv2.COLOR_GRAY2BGR)\n",
        "if linesP is not None:\n",
        "    for i in range(0, len(linesP)):\n",
        "        l = linesP[i][0]\n",
        "        cv2.line(auxImHoja,(l[0],l[1]),(l[2],l[3]),(0,0,255),3)"
      ],
      "execution_count": null,
      "outputs": []
    },
    {
      "cell_type": "code",
      "metadata": {
        "id": "0b4ezZv-LTL-",
        "outputId": "2e2c3358-225c-48cc-9bd9-78b905c6e2a4",
        "colab": {
          "base_uri": "https://localhost:8080/",
          "height": 286
        }
      },
      "source": [
        "plt.imshow(auxImHoja)"
      ],
      "execution_count": null,
      "outputs": [
        {
          "output_type": "execute_result",
          "data": {
            "text/plain": [
              "<matplotlib.image.AxesImage at 0x7f8d00dcfa20>"
            ]
          },
          "metadata": {
            "tags": []
          },
          "execution_count": 14
        },
        {
          "output_type": "display_data",
          "data": {
            "image/png": "[encoded data removed]",
            "text/plain": [
              "<Figure size 432x288 with 1 Axes>"
            ]
          },
          "metadata": {
            "tags": [],
            "needs_background": "light"
          }
        }
      ]
    },
    {
      "cell_type": "code",
      "metadata": {
        "id": "VfMTb7ZFLTMI",
        "outputId": "9f590499-2ddc-4e7f-8fea-a4b58de838fc",
        "colab": {
          "base_uri": "https://localhost:8080/",
          "height": 204
        }
      },
      "source": [
        "dfLineasP.head()"
      ],
      "execution_count": null,
      "outputs": [
        {
          "output_type": "execute_result",
          "data": {
            "text/html": [
              "<div>\n",
              "<style scoped>\n",
              "    .dataframe tbody tr th:only-of-type {\n",
              "        vertical-align: middle;\n",
              "    }\n",
              "\n",
              "    .dataframe tbody tr th {\n",
              "        vertical-align: top;\n",
              "    }\n",
              "\n",
              "    .dataframe thead th {\n",
              "        text-align: right;\n",
              "    }\n",
              "</style>\n",
              "<table border=\"1\" class=\"dataframe\">\n",
              "  <thead>\n",
              "    <tr style=\"text-align: right;\">\n",
              "      <th></th>\n",
              "      <th>Punto 1</th>\n",
              "      <th>Punto 2</th>\n",
              "      <th>Longitud</th>\n",
              "      <th>Angulo</th>\n",
              "    </tr>\n",
              "  </thead>\n",
              "  <tbody>\n",
              "    <tr>\n",
              "      <th>0</th>\n",
              "      <td>[300, 114]</td>\n",
              "      <td>[287, 839]</td>\n",
              "      <td>725.1</td>\n",
              "      <td>-1.55</td>\n",
              "    </tr>\n",
              "    <tr>\n",
              "      <th>1</th>\n",
              "      <td>[190, 488]</td>\n",
              "      <td>[184, 824]</td>\n",
              "      <td>336.1</td>\n",
              "      <td>-1.55</td>\n",
              "    </tr>\n",
              "    <tr>\n",
              "      <th>2</th>\n",
              "      <td>[351, 128]</td>\n",
              "      <td>[347, 365]</td>\n",
              "      <td>237.0</td>\n",
              "      <td>-1.55</td>\n",
              "    </tr>\n",
              "    <tr>\n",
              "      <th>3</th>\n",
              "      <td>[313, 114]</td>\n",
              "      <td>[305, 570]</td>\n",
              "      <td>456.1</td>\n",
              "      <td>-1.55</td>\n",
              "    </tr>\n",
              "    <tr>\n",
              "      <th>4</th>\n",
              "      <td>[321, 336]</td>\n",
              "      <td>[318, 521]</td>\n",
              "      <td>185.0</td>\n",
              "      <td>-1.55</td>\n",
              "    </tr>\n",
              "  </tbody>\n",
              "</table>\n",
              "</div>"
            ],
            "text/plain": [
              "      Punto 1     Punto 2  Longitud  Angulo\n",
              "0  [300, 114]  [287, 839]     725.1   -1.55\n",
              "1  [190, 488]  [184, 824]     336.1   -1.55\n",
              "2  [351, 128]  [347, 365]     237.0   -1.55\n",
              "3  [313, 114]  [305, 570]     456.1   -1.55\n",
              "4  [321, 336]  [318, 521]     185.0   -1.55"
            ]
          },
          "metadata": {
            "tags": []
          },
          "execution_count": 31
        }
      ]
    },
    {
      "cell_type": "code",
      "metadata": {
        "id": "yKLvZ28MbVeE",
        "outputId": "d15ad790-ad10-47f1-e666-44035fcfd355",
        "colab": {
          "base_uri": "https://localhost:8080/",
          "height": 419
        }
      },
      "source": [
        "dfLineasP.sort_values(by='Punto 1')"
      ],
      "execution_count": null,
      "outputs": [
        {
          "output_type": "execute_result",
          "data": {
            "text/html": [
              "<div>\n",
              "<style scoped>\n",
              "    .dataframe tbody tr th:only-of-type {\n",
              "        vertical-align: middle;\n",
              "    }\n",
              "\n",
              "    .dataframe tbody tr th {\n",
              "        vertical-align: top;\n",
              "    }\n",
              "\n",
              "    .dataframe thead th {\n",
              "        text-align: right;\n",
              "    }\n",
              "</style>\n",
              "<table border=\"1\" class=\"dataframe\">\n",
              "  <thead>\n",
              "    <tr style=\"text-align: right;\">\n",
              "      <th></th>\n",
              "      <th>Punto 1</th>\n",
              "      <th>Punto 2</th>\n",
              "      <th>Longitud</th>\n",
              "      <th>Angulo</th>\n",
              "    </tr>\n",
              "  </thead>\n",
              "  <tbody>\n",
              "    <tr>\n",
              "      <th>68</th>\n",
              "      <td>[0, 359]</td>\n",
              "      <td>[0, 708]</td>\n",
              "      <td>349.0</td>\n",
              "      <td>1.57</td>\n",
              "    </tr>\n",
              "    <tr>\n",
              "      <th>149</th>\n",
              "      <td>[0, 960]</td>\n",
              "      <td>[2, 1079]</td>\n",
              "      <td>119.0</td>\n",
              "      <td>1.55</td>\n",
              "    </tr>\n",
              "    <tr>\n",
              "      <th>32</th>\n",
              "      <td>[0, 1079]</td>\n",
              "      <td>[0, 1131]</td>\n",
              "      <td>52.0</td>\n",
              "      <td>1.57</td>\n",
              "    </tr>\n",
              "    <tr>\n",
              "      <th>259</th>\n",
              "      <td>[1, 451]</td>\n",
              "      <td>[1, 546]</td>\n",
              "      <td>95.0</td>\n",
              "      <td>1.57</td>\n",
              "    </tr>\n",
              "    <tr>\n",
              "      <th>62</th>\n",
              "      <td>[1, 583]</td>\n",
              "      <td>[1, 633]</td>\n",
              "      <td>50.0</td>\n",
              "      <td>1.57</td>\n",
              "    </tr>\n",
              "    <tr>\n",
              "      <th>...</th>\n",
              "      <td>...</td>\n",
              "      <td>...</td>\n",
              "      <td>...</td>\n",
              "      <td>...</td>\n",
              "    </tr>\n",
              "    <tr>\n",
              "      <th>71</th>\n",
              "      <td>[791, 532]</td>\n",
              "      <td>[791, 677]</td>\n",
              "      <td>145.0</td>\n",
              "      <td>1.57</td>\n",
              "    </tr>\n",
              "    <tr>\n",
              "      <th>127</th>\n",
              "      <td>[792, 639]</td>\n",
              "      <td>[792, 715]</td>\n",
              "      <td>76.0</td>\n",
              "      <td>1.57</td>\n",
              "    </tr>\n",
              "    <tr>\n",
              "      <th>76</th>\n",
              "      <td>[793, 677]</td>\n",
              "      <td>[793, 772]</td>\n",
              "      <td>95.0</td>\n",
              "      <td>1.57</td>\n",
              "    </tr>\n",
              "    <tr>\n",
              "      <th>201</th>\n",
              "      <td>[794, 0]</td>\n",
              "      <td>[792, 118]</td>\n",
              "      <td>118.0</td>\n",
              "      <td>-1.55</td>\n",
              "    </tr>\n",
              "    <tr>\n",
              "      <th>101</th>\n",
              "      <td>[794, 714]</td>\n",
              "      <td>[794, 802]</td>\n",
              "      <td>88.0</td>\n",
              "      <td>1.57</td>\n",
              "    </tr>\n",
              "  </tbody>\n",
              "</table>\n",
              "<p>277 rows × 4 columns</p>\n",
              "</div>"
            ],
            "text/plain": [
              "        Punto 1     Punto 2  Longitud  Angulo\n",
              "68     [0, 359]    [0, 708]     349.0    1.57\n",
              "149    [0, 960]   [2, 1079]     119.0    1.55\n",
              "32    [0, 1079]   [0, 1131]      52.0    1.57\n",
              "259    [1, 451]    [1, 546]      95.0    1.57\n",
              "62     [1, 583]    [1, 633]      50.0    1.57\n",
              "..          ...         ...       ...     ...\n",
              "71   [791, 532]  [791, 677]     145.0    1.57\n",
              "127  [792, 639]  [792, 715]      76.0    1.57\n",
              "76   [793, 677]  [793, 772]      95.0    1.57\n",
              "201    [794, 0]  [792, 118]     118.0   -1.55\n",
              "101  [794, 714]  [794, 802]      88.0    1.57\n",
              "\n",
              "[277 rows x 4 columns]"
            ]
          },
          "metadata": {
            "tags": []
          },
          "execution_count": 32
        }
      ]
    },
    {
      "cell_type": "code",
      "metadata": {
        "id": "ahZQOcQcLTM6"
      },
      "source": [
        "dfPorLongitud = dfLineasP.sort_values(by='Longitud')"
      ],
      "execution_count": null,
      "outputs": []
    },
    {
      "cell_type": "code",
      "metadata": {
        "id": "BumPAS1LLTNl",
        "outputId": "7e949c6d-fa1e-490c-a880-5940e6b09b15",
        "colab": {
          "base_uri": "https://localhost:8080/",
          "height": 204
        }
      },
      "source": [
        "dfPorLongitud = pd.DataFrame(data=dfPorLongitud.values,columns=[\"Punto 1\",\"Punto 2\",\"Longitud\",\"Angulo\"])\n",
        "dfPorLongitud.head()"
      ],
      "execution_count": null,
      "outputs": [
        {
          "output_type": "execute_result",
          "data": {
            "text/html": [
              "<div>\n",
              "<style scoped>\n",
              "    .dataframe tbody tr th:only-of-type {\n",
              "        vertical-align: middle;\n",
              "    }\n",
              "\n",
              "    .dataframe tbody tr th {\n",
              "        vertical-align: top;\n",
              "    }\n",
              "\n",
              "    .dataframe thead th {\n",
              "        text-align: right;\n",
              "    }\n",
              "</style>\n",
              "<table border=\"1\" class=\"dataframe\">\n",
              "  <thead>\n",
              "    <tr style=\"text-align: right;\">\n",
              "      <th></th>\n",
              "      <th>Punto 1</th>\n",
              "      <th>Punto 2</th>\n",
              "      <th>Longitud</th>\n",
              "      <th>Angulo</th>\n",
              "    </tr>\n",
              "  </thead>\n",
              "  <tbody>\n",
              "    <tr>\n",
              "      <th>0</th>\n",
              "      <td>[1, 633]</td>\n",
              "      <td>[1, 583]</td>\n",
              "      <td>50</td>\n",
              "      <td>1.57</td>\n",
              "    </tr>\n",
              "    <tr>\n",
              "      <th>1</th>\n",
              "      <td>[315, 857]</td>\n",
              "      <td>[314, 807]</td>\n",
              "      <td>50</td>\n",
              "      <td>1.55</td>\n",
              "    </tr>\n",
              "    <tr>\n",
              "      <th>2</th>\n",
              "      <td>[549, 154]</td>\n",
              "      <td>[499, 152]</td>\n",
              "      <td>50</td>\n",
              "      <td>0.04</td>\n",
              "    </tr>\n",
              "    <tr>\n",
              "      <th>3</th>\n",
              "      <td>[303, 717]</td>\n",
              "      <td>[304, 667]</td>\n",
              "      <td>50</td>\n",
              "      <td>-1.55</td>\n",
              "    </tr>\n",
              "    <tr>\n",
              "      <th>4</th>\n",
              "      <td>[519, 507]</td>\n",
              "      <td>[469, 510]</td>\n",
              "      <td>50.1</td>\n",
              "      <td>-0.06</td>\n",
              "    </tr>\n",
              "  </tbody>\n",
              "</table>\n",
              "</div>"
            ],
            "text/plain": [
              "      Punto 1     Punto 2 Longitud Angulo\n",
              "0    [1, 633]    [1, 583]       50   1.57\n",
              "1  [315, 857]  [314, 807]       50   1.55\n",
              "2  [549, 154]  [499, 152]       50   0.04\n",
              "3  [303, 717]  [304, 667]       50  -1.55\n",
              "4  [519, 507]  [469, 510]     50.1  -0.06"
            ]
          },
          "metadata": {
            "tags": []
          },
          "execution_count": 19
        }
      ]
    },
    {
      "cell_type": "code",
      "metadata": {
        "id": "Da2CFUbFMa6G",
        "outputId": "671e2ae6-05ce-4b4e-eeb8-19d799ea2ed3",
        "colab": {
          "base_uri": "https://localhost:8080/"
        }
      },
      "source": [
        "dfPorLongitud.iloc[0][\"Angulo\"]"
      ],
      "execution_count": null,
      "outputs": [
        {
          "output_type": "execute_result",
          "data": {
            "text/plain": [
              "1.57"
            ]
          },
          "metadata": {
            "tags": []
          },
          "execution_count": 27
        }
      ]
    },
    {
      "cell_type": "code",
      "metadata": {
        "id": "nVu2VUH2x3vW",
        "outputId": "a1a4bd10-0a9a-43d5-bf94-3a4a45c8ac14",
        "colab": {
          "base_uri": "https://localhost:8080/"
        }
      },
      "source": [
        "dfPorLongitud.values[0]"
      ],
      "execution_count": null,
      "outputs": [
        {
          "output_type": "execute_result",
          "data": {
            "text/plain": [
              "array([list([1, 633]), list([1, 583]), 50.0, 1.57], dtype=object)"
            ]
          },
          "metadata": {
            "tags": []
          },
          "execution_count": 33
        }
      ]
    },
    {
      "cell_type": "code",
      "metadata": {
        "id": "NIGPeIM7LTMP"
      },
      "source": [
        "linesH = cv2.HoughLines(r_imHoja,0.7,np.pi/180,100)"
      ],
      "execution_count": null,
      "outputs": []
    },
    {
      "cell_type": "code",
      "metadata": {
        "id": "DxK-xHkpLTMZ"
      },
      "source": [
        "auxImH = r_imHoja.copy()\n",
        "auxImH = cv2.cvtColor(r_imHoja,cv2.COLOR_GRAY2BGR)\n",
        "for rho,theta in linesH[0]:\n",
        "    a = np.cos(theta)\n",
        "    b = np.sin(theta)\n",
        "    x0 = a*rho\n",
        "    y0 = b*rho\n",
        "    x1 = int(x0 + 1000*(-b))\n",
        "    y1 = int(y0 + 1000*(a))\n",
        "    x2 = int(x0 - 1000*(-b))\n",
        "    y2 = int(y0 - 1000*(a))\n",
        "    cv2.line(auxImH,(x1,y1),(x2,y2),(0,0,255),2)"
      ],
      "execution_count": null,
      "outputs": []
    },
    {
      "cell_type": "code",
      "metadata": {
        "id": "lkO61SxPLTMj",
        "outputId": "22446e01-95bd-4359-8a8d-da93bc442157"
      },
      "source": [
        "plt.imshow(auxImH)"
      ],
      "execution_count": null,
      "outputs": [
        {
          "output_type": "execute_result",
          "data": {
            "text/plain": [
              "<matplotlib.image.AxesImage at 0x16dc4257160>"
            ]
          },
          "metadata": {
            "tags": []
          },
          "execution_count": 45
        },
        {
          "output_type": "display_data",
          "data": {
            "image/png": "[encoded data removed]",
            "text/plain": [
              "<Figure size 432x288 with 1 Axes>"
            ]
          },
          "metadata": {
            "tags": [],
            "needs_background": "light"
          }
        }
      ]
    },
    {
      "cell_type": "code",
      "metadata": {
        "id": "AOfFOuGTLTMv"
      },
      "source": [
        "cv2.imshow(\"Holo\", auxImH) \n",
        "#waits for user to press any key  \n",
        "#(this is necessary to avoid Python kernel form crashing) \n",
        "cv2.waitKey(0)  \n",
        "#closing all open windows  \n",
        "cv2.destroyAllWindows()"
      ],
      "execution_count": null,
      "outputs": []
    },
    {
      "cell_type": "code",
      "metadata": {
        "id": "MguPfOC-LTNx",
        "outputId": "bd82b73d-8d53-45eb-90e6-742a58deeeca"
      },
      "source": [
        "x_aux = dfPorLongitud[\"Longitud\"]\n",
        "y_aux = dfPorLongitud[\"Angulo\"]\n",
        "#plt.plot(x_aux, y_aux, 'o', label = \"Plox\")\n",
        "plt.plot(x_aux, y_aux, 'o')\n",
        "plt.xlabel('Longitud')\n",
        "plt.ylabel('Angulo')\n",
        "plt.title('Angulo de las lineas segun longitud')\n",
        "#plt.legend()\n",
        "plt.show()"
      ],
      "execution_count": null,
      "outputs": [
        {
          "output_type": "display_data",
          "data": {
            "image/png": "[encoded data removed]",
            "text/plain": [
              "<Figure size 432x288 with 1 Axes>"
            ]
          },
          "metadata": {
            "tags": [],
            "needs_background": "light"
          }
        }
      ]
    },
    {
      "cell_type": "code",
      "metadata": {
        "id": "4C_SEIYoLTN8",
        "outputId": "939c49ca-6248-4903-f886-d363b6dcbf59"
      },
      "source": [
        "plt.hist(x_aux)"
      ],
      "execution_count": null,
      "outputs": [
        {
          "output_type": "execute_result",
          "data": {
            "text/plain": [
              "(array([210.,  40.,  16.,   8.,   7.,   5.,   3.,   0.,   1.,   2.]),\n",
              " array([50.0, 119.3113719426576, 188.6227438853152, 257.9341158279728,\n",
              "        327.2454877706304, 396.556859713288, 465.8682316559456,\n",
              "        535.1796035986032, 604.4909755412608, 673.8023474839184,\n",
              "        743.113719426576], dtype=object),\n",
              " <a list of 10 Patch objects>)"
            ]
          },
          "metadata": {
            "tags": []
          },
          "execution_count": 78
        },
        {
          "output_type": "display_data",
          "data": {
            "image/png": "[encoded data removed]",
            "text/plain": [
              "<Figure size 432x288 with 1 Axes>"
            ]
          },
          "metadata": {
            "tags": [],
            "needs_background": "light"
          }
        }
      ]
    },
    {
      "cell_type": "code",
      "metadata": {
        "id": "VA60G0fsLTOF",
        "outputId": "5cd5d16c-f3f9-4bf8-8a52-d935684d6bc9"
      },
      "source": [
        "plt.hist(y_aux)"
      ],
      "execution_count": null,
      "outputs": [
        {
          "output_type": "execute_result",
          "data": {
            "text/plain": [
              "(array([106.,   0.,   1.,  43.,   0.,   0.,  57.,   0.,   0.,  85.]),\n",
              " array([-1.5619470002786389, -1.0915930348917957, -0.6212390695049523,\n",
              "        -0.15088510411810896, 0.3194688612687342, 0.7898228266555773,\n",
              "        1.260176792042421, 1.730530757429264, 2.2008847228161073,\n",
              "        2.671238688202951, 3.141592653589793], dtype=object),\n",
              " <a list of 10 Patch objects>)"
            ]
          },
          "metadata": {
            "tags": []
          },
          "execution_count": 79
        },
        {
          "output_type": "display_data",
          "data": {
            "image/png": "[encoded data removed]",
            "text/plain": [
              "<Figure size 432x288 with 1 Axes>"
            ]
          },
          "metadata": {
            "tags": [],
            "needs_background": "light"
          }
        }
      ]
    },
    {
      "cell_type": "code",
      "metadata": {
        "id": "6ybEDV1_LTOP"
      },
      "source": [
        "def BinningFreq(arr,n): #Se asume recibe matriz de dos dimensiones (Componente i de una imagen) \n",
        "    piv = len(arr)//n\n",
        "    arrPiv = []\n",
        "    for i in range(1,n):\n",
        "        arrPiv.append(i*piv)\n",
        "    arrPiv.append(len(arr))\n",
        "    arreglo = []\n",
        "    bins_aux = []\n",
        "    previo = 0\n",
        "    for piv in arrPiv:\n",
        "        bins_aux = arr[previo:piv]\n",
        "        arreglo.append(bins_aux)\n",
        "        previo = piv\n",
        "    return arreglo"
      ],
      "execution_count": null,
      "outputs": []
    },
    {
      "cell_type": "code",
      "metadata": {
        "id": "26sC6T9zLTOX"
      },
      "source": [
        "#def graficarTest(variableValores,nombreVar,errorSuma,errorCant,titulo):\n",
        "#  plt.plot(variableValores, errorSuma, label = \"Error en suma\")\n",
        "#  plt.plot(variableValores, errorCant, label = \"Error en número de monedas\")\n",
        "#  plt.xlabel(nombreVar)\n",
        "#  plt.ylabel('Error')\n",
        "#  plt.title(titulo)\n",
        "#  plt.legend()\n",
        "#  plt.show()"
      ],
      "execution_count": null,
      "outputs": []
    },
    {
      "cell_type": "code",
      "metadata": {
        "id": "NsTlAUMhR2BC",
        "outputId": "b5589bd1-ef16-4ea7-af36-ff3744d1e2b8",
        "colab": {
          "base_uri": "https://localhost:8080/",
          "height": 256
        }
      },
      "source": [
        "plt.imshow(r_imIdeal,cmap='gray')"
      ],
      "execution_count": null,
      "outputs": [
        {
          "output_type": "execute_result",
          "data": {
            "text/plain": [
              "<matplotlib.image.AxesImage at 0x7f3317ab5e48>"
            ]
          },
          "metadata": {
            "tags": []
          },
          "execution_count": 40
        },
        {
          "output_type": "display_data",
          "data": {
            "image/png": "[encoded data removed]",
            "text/plain": [
              "<Figure size 432x288 with 1 Axes>"
            ]
          },
          "metadata": {
            "tags": [],
            "needs_background": "light"
          }
        }
      ]
    },
    {
      "cell_type": "code",
      "metadata": {
        "id": "zeL1_apMSADY",
        "outputId": "fc96a294-ca22-4823-d8f5-c91fe72d0ef3",
        "colab": {
          "base_uri": "https://localhost:8080/"
        }
      },
      "source": [
        "moda = stats.mode(slopes) #slopes ya no existe, pero es lass pendientesssss\n",
        "print(moda)"
      ],
      "execution_count": null,
      "outputs": [
        {
          "output_type": "stream",
          "text": [
            "ModeResult(mode=array([-1.]), count=array([85]))\n"
          ],
          "name": "stdout"
        }
      ]
    },
    {
      "cell_type": "code",
      "metadata": {
        "id": "S7va_pQRoX61"
      },
      "source": [
        "while True:\n",
        "    cv2.imshow(\"Guardar Color\",auxIm)\n",
        "    if cv2.waitKey(1) & 0xFF == ord('r'):\n",
        "        break\n",
        "cv2.destroyAllWindows()"
      ],
      "execution_count": null,
      "outputs": []
    },
    {
      "cell_type": "code",
      "metadata": {
        "id": "SqXShxymqvNz"
      },
      "source": [
        "ojio = pd.DataFrame(data=[['Juan',2001,'Peter'], ['Melissa',1985,'Peter'], ['Kim',1990,'Vaughn'], ['Rei',2005,'NaN']],columns=auxC)"
      ],
      "execution_count": null,
      "outputs": []
    },
    {
      "cell_type": "code",
      "metadata": {
        "id": "XciWJA6xLTO3",
        "outputId": "6b66456a-5f65-4a4c-861d-a041c8119e30"
      },
      "source": [
        "ojio['Nombre']"
      ],
      "execution_count": null,
      "outputs": [
        {
          "output_type": "execute_result",
          "data": {
            "text/plain": [
              "0       Juan\n",
              "1    Melissa\n",
              "2        Kim\n",
              "3        Rei\n",
              "Name: Nombre, dtype: object"
            ]
          },
          "metadata": {
            "tags": []
          },
          "execution_count": 35
        }
      ]
    },
    {
      "cell_type": "code",
      "metadata": {
        "id": "9m7YeRm5rFUh",
        "outputId": "28dbefae-1f48-4dd6-d2de-6a09373f1063",
        "colab": {
          "base_uri": "https://localhost:8080/",
          "height": 744
        }
      },
      "source": [
        "cv2_imshow(auxIm[113:840,286:301])"
      ],
      "execution_count": null,
      "outputs": [
        {
          "output_type": "display_data",
          "data": {
            "image/png": "[encoded data removed]",
            "text/plain": [
              "<PIL.Image.Image image mode=RGB size=15x727 at 0x7F014D754D30>"
            ]
          },
          "metadata": {
            "tags": []
          }
        }
      ]
    },
    {
      "cell_type": "code",
      "metadata": {
        "id": "l5ArCD58yTXd"
      },
      "source": [
        "#https://docs.opencv.org/master/d4/d86/group__imgproc__filter.html#ga9d7064d478c95d60003cf839430737ed \n",
        "#https://docs.opencv.org/master/d4/d13/tutorial_py_filtering.html\n",
        "#sigmaSpace alto podría terminar borrando detalles y no queremos eso porque líneas\n",
        "#d=3 porque tampoco queremos un blur tan fuerte\n",
        "imagen = cv2.bilateralFilter(imagen,d=3,sigmaColor=75,sigmaSpace=30)"
      ],
      "execution_count": null,
      "outputs": []
    },
    {
      "cell_type": "markdown",
      "metadata": {
        "id": "KiqK-zHsDJa1"
      },
      "source": [
        "## Material Bibliográfico"
      ]
    },
    {
      "cell_type": "markdown",
      "metadata": {
        "id": "9sAS3c7aDMrv"
      },
      "source": [
        "Answers OpenCV ()"
      ]
    }
  ]
}